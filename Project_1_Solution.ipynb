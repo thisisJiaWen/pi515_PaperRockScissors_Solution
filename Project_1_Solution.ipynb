{
  "nbformat": 4,
  "nbformat_minor": 0,
  "metadata": {
    "colab": {
      "provenance": [],
      "toc_visible": true,
      "authorship_tag": "ABX9TyMnxCXUMW0fCapPfokfmIMO",
      "include_colab_link": true
    },
    "kernelspec": {
      "name": "python3",
      "display_name": "Python 3"
    },
    "language_info": {
      "name": "python"
    }
  },
  "cells": [
    {
      "cell_type": "markdown",
      "metadata": {
        "id": "view-in-github",
        "colab_type": "text"
      },
      "source": [
        "<a href=\"https://colab.research.google.com/github/thisisJiaWen/pi515_PaperRockScissors_Solution/blob/main/Project_1_Solution.ipynb\" target=\"_parent\"><img src=\"https://colab.research.google.com/assets/colab-badge.svg\" alt=\"Open In Colab\"/></a>"
      ]
    },
    {
      "cell_type": "code",
      "source": [
        "### Solution 1\n",
        "# Step 1: Import random library to generate random choices for computer\n",
        "import random\n",
        "\n",
        "while True:\n",
        "  # Step 2: Generate a random number (0, 1, or 2) for the computer's move\n",
        "  ### Only 3 possible move in this game\n",
        "  randomNumber = random.randint(0, 2)\n",
        "\n",
        "  # Step 3: Assign the computer's move based on the random number\n",
        "  if randomNumber == 0:\n",
        "      computer_move = \"Rock\"\n",
        "  elif randomNumber == 1:\n",
        "      computer_move = \"Paper\"\n",
        "  else:\n",
        "      computer_move = \"Scissors\"\n",
        "\n",
        "  # Step 4: Prompt the user input with validation\n",
        "  while True:\n",
        "      user_move = input(\"Enter your move (Rock, Paper, or Scissors): \")\n",
        "\n",
        "      if user_move in [\"Rock\", \"Paper\", \"Scissors\"]:\n",
        "        print(f\"\\nYour move: {user_move}\")\n",
        "        print(f\"Computer's move: {computer_move}\")\n",
        "        break\n",
        "\n",
        "      else:\n",
        "          print(\"Invalid input! Please enter again.\")\n",
        "\n",
        "  # Step 5: Determine the winner\n",
        "  if user_move == computer_move:\n",
        "    print(\"It's a tie!\")\n",
        "  elif (user_move == \"Rock\" and computer_move == \"Scissors\") or \\\n",
        "        (user_move == \"Paper\" and computer_move == \"Rock\") or \\\n",
        "        (user_move == \"Scissors\" and computer_move == \"Paper\"):\n",
        "    print(\"You win!\")\n",
        "  else:\n",
        "    print(\"You lose!\")\n",
        "\n",
        "  # Step 6: Ask the player if they want to play again\n",
        "  ### Boolean Operator != (not equal to)\n",
        "  play_again = input(\"\\nDo you want to play again? (yes/no): \").lower()\n",
        "  if play_again != \"yes\":\n",
        "      print(\"Thanks for playing!\")\n",
        "      break"
      ],
      "metadata": {
        "colab": {
          "base_uri": "https://localhost:8080/"
        },
        "id": "ZSb4-s1_DNGD",
        "outputId": "7060a302-cb4d-4ff7-cae6-7d9529b25381"
      },
      "execution_count": 14,
      "outputs": [
        {
          "output_type": "stream",
          "name": "stdout",
          "text": [
            "Enter your move (Rock, Paper, or Scissors): rock\n",
            "Invalid input! Please enter again.\n",
            "Enter your move (Rock, Paper, or Scissors): Paper\n",
            "Your move: Paper\n",
            "Computer's move: Rock\n",
            "You win!\n",
            "\n",
            "Do you want to play again? (yes/no): no\n",
            "Thanks for playing!\n"
          ]
        }
      ]
    },
    {
      "cell_type": "code",
      "source": [
        "### Solution 2\n",
        "# Step 1: Import random library to generate random choices for computer\n",
        "import random\n",
        "\n",
        "while True:\n",
        "  # Step 2: Generate a random number (0, 1, or 2) for the computer's move\n",
        "  ### Only 3 possible move in this game\n",
        "  randomNumber = random.randint(0, 2)\n",
        "\n",
        "  # Step 3: Assign the computer's move based on the random number\n",
        "  if randomNumber == 0:\n",
        "      computer_move = \"Rock\"\n",
        "  elif randomNumber == 1:\n",
        "      computer_move = \"Paper\"\n",
        "  else:\n",
        "      computer_move = \"Scissors\"\n",
        "\n",
        "  # Step 4: Prompt the user input with validation\n",
        "  while True:\n",
        "      user_move = input(\"Enter your move (Rock, Paper, or Scissors): \")\n",
        "\n",
        "      if user_move in [\"Rock\", \"Paper\", \"Scissors\"]:\n",
        "        print(f\"\\nYour move: {user_move}\")\n",
        "        print(f\"Computer's move: {computer_move}\")\n",
        "        break\n",
        "\n",
        "      else:\n",
        "          print(\"Invalid input! Please enter again.\")\n",
        "\n",
        "  # Step 5: Determine the winner\n",
        "  if user_move == computer_move:\n",
        "    print(\"It's a tie!\")\n",
        "  elif (user_move == \"Rock\" and computer_move == \"Scissors\") or \\\n",
        "        (user_move == \"Paper\" and computer_move == \"Rock\") or \\\n",
        "        (user_move == \"Scissors\" and computer_move == \"Paper\"):\n",
        "    print(\"You win!\")\n",
        "  else:\n",
        "    print(\"You lose!\")\n",
        "\n",
        "  # Step 6: Ask the player if they want to play again\n",
        "  play_again = input(\"\\nDo you want to play again? (yes/no): \").lower()\n",
        "  if play_again == \"yes\":\n",
        "    continue   # Continue the loop to play again\n",
        "  else:\n",
        "    print(\"Thanks for playing!\")\n",
        "    break   # Exit the game loop"
      ],
      "metadata": {
        "id": "64Ap_-ntW7BS"
      },
      "execution_count": null,
      "outputs": []
    },
    {
      "cell_type": "markdown",
      "source": [
        "# **Advance**"
      ],
      "metadata": {
        "id": "6fuezAxQdcxH"
      }
    },
    {
      "cell_type": "code",
      "source": [
        "### Solution 3\n",
        "# Step 1: Import random library to generate random choices for computer\n",
        "import random\n",
        "\n",
        "# Initialize scores\n",
        "player_score = 0\n",
        "computer_score = 0\n",
        "\n",
        "while True:\n",
        "    # Step 2: Generate a random number (0, 1, or 2) for the computer's move\n",
        "    randomNumber = random.randint(0, 2)\n",
        "\n",
        "    # Step 3: Assign the computer's move based on the random number\n",
        "    if randomNumber == 0:\n",
        "        computer_move = \"Rock\"\n",
        "    elif randomNumber == 1:\n",
        "        computer_move = \"Paper\"\n",
        "    else:\n",
        "        computer_move = \"Scissors\"\n",
        "\n",
        "    # Step 4: Prompt the user input with validation\n",
        "    while True:\n",
        "        user_move = input(\"Enter your move (Rock, Paper, or Scissors): \")\n",
        "\n",
        "        if user_move in [\"Rock\", \"Paper\", \"Scissors\"]:\n",
        "            print(f\"\\nYour move: {user_move}\")\n",
        "            print(f\"Computer's move: {computer_move}\")\n",
        "            break\n",
        "        else:\n",
        "            print(\"Invalid input! Please enter again.\")\n",
        "\n",
        "    # Step 5: Determine the winner\n",
        "    if user_move == computer_move:\n",
        "        print(\"It's a tie!\")\n",
        "    elif (user_move == \"Rock\" and computer_move == \"Scissors\") or \\\n",
        "         (user_move == \"Paper\" and computer_move == \"Rock\") or \\\n",
        "         (user_move == \"Scissors\" and computer_move == \"Paper\"):\n",
        "        print(\"You win!\")\n",
        "        player_score += 1  # Increment player score\n",
        "    else:\n",
        "        print(\"You lose!\")\n",
        "        computer_score += 1  # Increment computer score\n",
        "\n",
        "    # Step 6: Display scores\n",
        "    print(f\"\\nScores: You: {player_score} | Computer: {computer_score}\")\n",
        "\n",
        "    # Step 7: Ask the player if they want to play again\n",
        "    play_again = input(\"\\nDo you want to play again? (yes/no): \").lower()\n",
        "    if play_again == \"yes\":\n",
        "        continue  # Continue the loop to play again\n",
        "    else:\n",
        "        print(\"Thanks for playing!\")\n",
        "        break  # Exit the game loop"
      ],
      "metadata": {
        "id": "oPZCKos_Yh8g"
      },
      "execution_count": null,
      "outputs": []
    }
  ]
}