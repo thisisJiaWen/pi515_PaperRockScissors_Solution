{
  "nbformat": 4,
  "nbformat_minor": 0,
  "metadata": {
    "colab": {
      "provenance": [],
      "authorship_tag": "ABX9TyPop8uSRZw97NNd3+f5lwxR",
      "include_colab_link": true
    },
    "kernelspec": {
      "name": "python3",
      "display_name": "Python 3"
    },
    "language_info": {
      "name": "python"
    }
  },
  "cells": [
    {
      "cell_type": "markdown",
      "metadata": {
        "id": "view-in-github",
        "colab_type": "text"
      },
      "source": [
        "<a href=\"https://colab.research.google.com/github/thisisJiaWen/pi515_PaperRockScissors_Solution/blob/main/Project_1_Solution.ipynb\" target=\"_parent\"><img src=\"https://colab.research.google.com/assets/colab-badge.svg\" alt=\"Open In Colab\"/></a>"
      ]
    },
    {
      "cell_type": "code",
      "source": [
        "### Solution 1\n",
        "# Step 1: Import random library to generate random choices for computer\n",
        "import random\n",
        "\n",
        "user_play = True\n",
        "while user_play:\n",
        "  # Step 2: Generate a random number (0, 1, or 2) for the computer's move\n",
        "  ### Only 3 possible move in this game\n",
        "  randomNumber = random.randint(0, 2)\n",
        "\n",
        "  # Step 3: Assign the computer's move based on the random number\n",
        "  if randomNumber == 0:\n",
        "      computer_move = \"rock\"\n",
        "  elif randomNumber == 1:\n",
        "      computer_move = \"paper\"\n",
        "  else:\n",
        "      computer_move = \"scissors\"\n",
        "\n",
        "  # Step 4: Prompt the user input with validation\n",
        "  while True:\n",
        "      user_move = input(\"Enter your move (rock, paper, or scissors): \").lower()\n",
        "\n",
        "      if user_move in [\"rock\", \"paper\", \"scissors\"]:\n",
        "        print(f\"\\nYour move: {user_move}\")\n",
        "        print(f\"Computer's move: {computer_move}\")\n",
        "        break\n",
        "\n",
        "      else:\n",
        "          print(\"Invalid input! Please enter again.\")\n",
        "\n",
        "  # Step 5: Determine the winner\n",
        "  if user_move == computer_move:\n",
        "    print(\"It's a tie!\")\n",
        "  elif (user_move == \"rock\" and computer_move == \"scissors\") or \\\n",
        "        (user_move == \"paper\" and computer_move == \"rock\") or \\\n",
        "        (user_move == \"scissors\" and computer_move == \"paper\"):\n",
        "    print(\"You win!\")\n",
        "  else:\n",
        "    print(\"You lose!\")\n",
        "\n",
        "  # Step 6: Ask the player if they want to play again\n",
        "  ### Boolean Operator != (not equal to)\n",
        "  play_again = input(\"\\nDo you want to play again? (yes/no): \").lower()\n",
        "  if play_again == \"no\":\n",
        "      print(\"Thanks for playing!\")\n",
        "      user_play = False"
      ],
      "metadata": {
        "colab": {
          "base_uri": "https://localhost:8080/"
        },
        "id": "ZSb4-s1_DNGD",
        "outputId": "a9b6ed5d-d96c-4747-9e53-95ac7a179180"
      },
      "execution_count": 17,
      "outputs": [
        {
          "output_type": "stream",
          "name": "stdout",
          "text": [
            "Enter your move (Rock, Paper, or Scissors): Rock\n",
            "\n",
            "Your move: rock\n",
            "Computer's move: paper\n",
            "You lose!\n",
            "\n",
            "Do you want to play again? (yes/no): yes\n",
            "Enter your move (Rock, Paper, or Scissors): rock\n",
            "\n",
            "Your move: rock\n",
            "Computer's move: rock\n",
            "It's a tie!\n",
            "\n",
            "Do you want to play again? (yes/no): yes\n",
            "Enter your move (Rock, Paper, or Scissors): ROCK\n",
            "\n",
            "Your move: rock\n",
            "Computer's move: rock\n",
            "It's a tie!\n",
            "\n",
            "Do you want to play again? (yes/no): yes\n",
            "Enter your move (Rock, Paper, or Scissors): RoCk\n",
            "\n",
            "Your move: rock\n",
            "Computer's move: paper\n",
            "You lose!\n",
            "\n",
            "Do you want to play again? (yes/no): no\n",
            "Thanks for playing!\n"
          ]
        }
      ]
    },
    {
      "cell_type": "code",
      "source": [
        "### Solution 2\n",
        "# Step 1: Import random library to generate random choices for computer\n",
        "import random\n",
        "\n",
        "user_play = True\n",
        "while user_play:\n",
        "  # Step 2: Generate a random number (0, 1, or 2) for the computer's move\n",
        "  ### Only 3 possible move in this game\n",
        "  randomNumber = random.randint(0, 2)\n",
        "\n",
        "  # Step 3: Assign the computer's move based on the random number\n",
        "  if randomNumber == 0:\n",
        "      computer_move = \"rock\"\n",
        "  elif randomNumber == 1:\n",
        "      computer_move = \"paper\"\n",
        "  else:\n",
        "      computer_move = \"scissors\"\n",
        "\n",
        "  # Step 4: Prompt the user input with validation\n",
        "  while True:\n",
        "      user_move = input(\"Enter your move (rock, paper, or scissors): \").lower()\n",
        "\n",
        "      if user_move in [\"rock\", \"paper\", \"scissors\"]:\n",
        "        print(f\"\\nYour move: {user_move}\")\n",
        "        print(f\"Computer's move: {computer_move}\")\n",
        "        break\n",
        "\n",
        "      else:\n",
        "          print(\"Invalid input! Please enter again.\")\n",
        "\n",
        "  # Step 5: Determine the winner\n",
        "  if user_move == computer_move:\n",
        "    print(\"It's a tie!\")\n",
        "  elif (user_move == \"rock\" and computer_move == \"scissors\") or \\\n",
        "        (user_move == \"paper\" and computer_move == \"rock\") or \\\n",
        "        (user_move == \"scissors\" and computer_move == \"paper\"):\n",
        "    print(\"You win!\")\n",
        "  else:\n",
        "    print(\"You lose!\")\n",
        "\n",
        "  # Step 6: Ask the player if they want to play again\n",
        "  play_again = input(\"\\nDo you want to play again? (yes/no): \").lower()\n",
        "  if play_again == \"no\":\n",
        "    print(\"Thanks for playing!\")\n",
        "    user_play = False"
      ],
      "metadata": {
        "colab": {
          "base_uri": "https://localhost:8080/"
        },
        "id": "64Ap_-ntW7BS",
        "outputId": "e518ea17-6fc9-4ce4-8494-17c02f9a30a4"
      },
      "execution_count": 18,
      "outputs": [
        {
          "output_type": "stream",
          "name": "stdout",
          "text": [
            "Enter your move (Rock, Paper, or Scissors): rock\n",
            "\n",
            "Your move: rock\n",
            "Computer's move: scissors\n",
            "You win!\n",
            "\n",
            "Do you want to play again? (yes/no): no\n",
            "Thanks for playing!\n"
          ]
        }
      ]
    },
    {
      "cell_type": "markdown",
      "source": [
        "# **Advance**"
      ],
      "metadata": {
        "id": "6fuezAxQdcxH"
      }
    },
    {
      "cell_type": "code",
      "source": [
        "### Solution 3\n",
        "# Step 1: Import random library to generate random choices for computer\n",
        "import random\n",
        "\n",
        "# Initialize scores\n",
        "player_score = 0\n",
        "computer_score = 0\n",
        "\n",
        "while True:\n",
        "    # Step 2: Generate a random number (0, 1, or 2) for the computer's move\n",
        "    randomNumber = random.randint(0, 2)\n",
        "\n",
        "    # Step 3: Assign the computer's move based on the random number\n",
        "    if randomNumber == 0:\n",
        "        computer_move = \"rock\"\n",
        "    elif randomNumber == 1:\n",
        "        computer_move = \"paper\"\n",
        "    else:\n",
        "        computer_move = \"scissors\"\n",
        "\n",
        "    # Step 4: Prompt the user input with validation\n",
        "    while True:\n",
        "        user_move = input(\"Enter your move (rock, paper, or scissors): \").lower()\n",
        "\n",
        "        if user_move in [\"rock\", \"paper\", \"scissors\"]:\n",
        "            print(f\"\\nYour move: {user_move}\")\n",
        "            print(f\"Computer's move: {computer_move}\")\n",
        "            break\n",
        "        else:\n",
        "            print(\"Invalid input! Please enter again.\")\n",
        "\n",
        "    # Step 5: Determine the winner\n",
        "    if user_move == computer_move:\n",
        "        print(\"It's a tie!\")\n",
        "    elif (user_move == \"rock\" and computer_move == \"scissors\") or \\\n",
        "         (user_move == \"paper\" and computer_move == \"rock\") or \\\n",
        "         (user_move == \"scissors\" and computer_move == \"paper\"):\n",
        "        print(\"You win!\")\n",
        "        player_score += 1  # Increment player score\n",
        "    else:\n",
        "        print(\"You lose!\")\n",
        "        computer_score += 1  # Increment computer score\n",
        "\n",
        "    # Step 6: Display scores\n",
        "    print(f\"\\nScores: You: {player_score} | Computer: {computer_score}\")\n",
        "\n",
        "    # Step 7: Ask the player if they want to play again\n",
        "    play_again = input(\"\\nDo you want to play again? (yes/no): \").lower()\n",
        "    if play_again == \"yes\":\n",
        "        continue  # Continue the loop to play again\n",
        "    else:\n",
        "        print(\"Thanks for playing!\")\n",
        "        break  # Exit the game loop"
      ],
      "metadata": {
        "id": "oPZCKos_Yh8g"
      },
      "execution_count": null,
      "outputs": []
    }
  ]
}